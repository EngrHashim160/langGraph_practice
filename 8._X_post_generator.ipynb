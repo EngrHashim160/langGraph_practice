{
 "cells": [
  {
   "cell_type": "code",
   "execution_count": 2,
   "id": "3db53f02",
   "metadata": {},
   "outputs": [],
   "source": [
    "from langgraph.graph import StateGraph, START, END\n",
    "from langchain_groq import ChatGroq\n",
    "from typing import TypedDict, Literal\n",
    "from pydantic import BaseModel, Field\n",
    "from dotenv import load_dotenv\n",
    "from langchain_core.messages import SystemMessage, HumanMessage"
   ]
  },
  {
   "cell_type": "code",
   "execution_count": 3,
   "id": "eaac521f",
   "metadata": {},
   "outputs": [
    {
     "data": {
      "text/plain": [
       "True"
      ]
     },
     "execution_count": 3,
     "metadata": {},
     "output_type": "execute_result"
    }
   ],
   "source": [
    "load_dotenv()"
   ]
  },
  {
   "cell_type": "code",
   "execution_count": 5,
   "id": "7cbf1a7f",
   "metadata": {},
   "outputs": [],
   "source": [
    "llm = ChatGroq(model=\"Gemma2-9b-It\")"
   ]
  },
  {
   "cell_type": "code",
   "execution_count": 9,
   "id": "25c5a2ab",
   "metadata": {},
   "outputs": [],
   "source": [
    "class TweetEvaluation(BaseModel):\n",
    "    evaluation: Literal['approved', 'needs_improvement'] = Field(..., description=\"Final evaluation result.\")\n",
    "    feedback: str = Field(..., description=\"Feedback for the tweet.\")"
   ]
  },
  {
   "cell_type": "code",
   "execution_count": 10,
   "id": "f16d922c",
   "metadata": {},
   "outputs": [],
   "source": [
    "structured_evaluator_llm = llm.with_structured_output(TweetEvaluation)"
   ]
  },
  {
   "cell_type": "code",
   "execution_count": 6,
   "id": "245fd1b1",
   "metadata": {},
   "outputs": [],
   "source": [
    "class XState(TypedDict):\n",
    "    topic: str\n",
    "    tweet: str\n",
    "    evaluation: Literal['approved', 'needs_improvement']\n",
    "    feedback: str\n",
    "    iteration: int\n",
    "    max_iteration: int"
   ]
  },
  {
   "cell_type": "code",
   "execution_count": null,
   "id": "5b182dba",
   "metadata": {},
   "outputs": [],
   "source": [
    "def generate_tweet(state: XState):\n",
    "    # prompt\n",
    "    messages = [\n",
    "        SystemMessage(content=\"You are a funny and clever Twitter/X influencer.\"),\n",
    "        HumanMessage(content=f\"\"\"\n",
    "        Write a short, original, and hilarious tweet on the topic: \"{state['topic']}\".\n",
    "        \n",
    "        Rules:\n",
    "        - Do not use question-answer format.\n",
    "        - Max 280 characters.\n",
    "        - Use obervational humor, irony, sarcasm, or cultural references.\n",
    "        - Think in meme logic, punchlines, or relatable takes.\n",
    "        - Use simple, day to day english\n",
    "        - This is version {state['iteration'] + 1}.\n",
    "\"\"\")\n",
    "    ]\n",
    "    # send generator_llm\n",
    "    response = llm.invoke(messages).content\n",
    "    \n",
    "    # return response\n",
    "    return {'tweet': response}"
   ]
  },
  {
   "cell_type": "code",
   "execution_count": 11,
   "id": "055cf3d6",
   "metadata": {},
   "outputs": [],
   "source": [
    "def evaluate_tweet(state: XState):\n",
    "    # prompt\n",
    "    messages = [\n",
    "    SystemMessage(content=\"You are a ruthless, no-laugh-given Twitter critic. You evaluate tweets based on humor, originality, virality, and tweet format.\"),\n",
    "    HumanMessage(content=f\"\"\"\n",
    "Evaluate the following tweet:\n",
    "\n",
    "Tweet: \"{state['tweet']}\"\n",
    "\n",
    "Use the criteria below to evaluate the tweet:\n",
    "\n",
    "1. Originality – Is this fresh, or have you seen it a hundred times before?  \n",
    "2. Humor – Did it genuinely make you smile, laugh, or chuckle?  \n",
    "3. Punchiness – Is it short, sharp, and scroll-stopping?  \n",
    "4. Virality Potential – Would people retweet or share it?  \n",
    "5. Format – Is it a well-formed tweet (not a setup-punchline joke, not a Q&A joke, and under 280 characters)?\n",
    "\n",
    "Auto-reject if:\n",
    "- It's written in question-answer format (e.g., \"Why did...\" or \"What happens when...\")\n",
    "- It exceeds 280 characters\n",
    "- It reads like a traditional setup-punchline joke\n",
    "- Dont end with generic, throwaway, or deflating lines that weaken the humor (e.g., “Masterpieces of the auntie-uncle universe” or vague summaries)\n",
    "\n",
    "### Respond ONLY in structured format:\n",
    "- evaluation: \"approved\" or \"needs_improvement\"  \n",
    "- feedback: One paragraph explaining the strengths and weaknesses \n",
    "\"\"\")\n",
    "]\n",
    "    \n",
    "    # get response\n",
    "    response = structured_evaluator_llm.invoke(messages)\n",
    "    \n",
    "    # return response\n",
    "    \n",
    "    return {\n",
    "        'evaluation': response.evaluation,\n",
    "        'feedback': response.feedback\n",
    "    }"
   ]
  },
  {
   "cell_type": "code",
   "execution_count": 7,
   "id": "e65d24be",
   "metadata": {},
   "outputs": [
    {
     "ename": "NameError",
     "evalue": "name 'generate_tweet' is not defined",
     "output_type": "error",
     "traceback": [
      "\u001b[31m---------------------------------------------------------------------------\u001b[39m",
      "\u001b[31mNameError\u001b[39m                                 Traceback (most recent call last)",
      "\u001b[36mCell\u001b[39m\u001b[36m \u001b[39m\u001b[32mIn[7]\u001b[39m\u001b[32m, line 3\u001b[39m\n\u001b[32m      1\u001b[39m graph = StateGraph(XState)\n\u001b[32m----> \u001b[39m\u001b[32m3\u001b[39m graph.add_node(\u001b[33m'\u001b[39m\u001b[33mgenerate\u001b[39m\u001b[33m'\u001b[39m, \u001b[43mgenerate_tweet\u001b[49m)\n\u001b[32m      4\u001b[39m graph.add_node(\u001b[33m'\u001b[39m\u001b[33mevaluate\u001b[39m\u001b[33m'\u001b[39m, evaluate_tweet)\n\u001b[32m      5\u001b[39m graph.add_node(\u001b[33m'\u001b[39m\u001b[33moptimize\u001b[39m\u001b[33m'\u001b[39m, optimize_tweet)\n",
      "\u001b[31mNameError\u001b[39m: name 'generate_tweet' is not defined"
     ]
    }
   ],
   "source": [
    "graph = StateGraph(XState)\n",
    "\n",
    "graph.add_node('generate', generate_tweet)\n",
    "graph.add_node('evaluate', evaluate_tweet)\n",
    "graph.add_node('optimize', optimize_tweet)"
   ]
  },
  {
   "cell_type": "code",
   "execution_count": null,
   "id": "6b2201eb",
   "metadata": {},
   "outputs": [],
   "source": []
  }
 ],
 "metadata": {
  "kernelspec": {
   "display_name": "langgraph_env",
   "language": "python",
   "name": "python3"
  },
  "language_info": {
   "codemirror_mode": {
    "name": "ipython",
    "version": 3
   },
   "file_extension": ".py",
   "mimetype": "text/x-python",
   "name": "python",
   "nbconvert_exporter": "python",
   "pygments_lexer": "ipython3",
   "version": "3.11.7"
  }
 },
 "nbformat": 4,
 "nbformat_minor": 5
}
