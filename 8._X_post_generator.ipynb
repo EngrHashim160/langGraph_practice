{
 "cells": [
  {
   "cell_type": "code",
   "execution_count": 2,
   "id": "3db53f02",
   "metadata": {},
   "outputs": [],
   "source": [
    "from langgraph.graph import StateGraph, START, END\n",
    "from langchain_groq import ChatGroq\n",
    "from typing import TypedDict, Literal\n",
    "from pydantic import BaseModel, Field\n",
    "from dotenv import load_dotenv\n",
    "from langchain_core.messages import SystemMessage, HumanMessage"
   ]
  },
  {
   "cell_type": "code",
   "execution_count": 3,
   "id": "eaac521f",
   "metadata": {},
   "outputs": [
    {
     "data": {
      "text/plain": [
       "True"
      ]
     },
     "execution_count": 3,
     "metadata": {},
     "output_type": "execute_result"
    }
   ],
   "source": [
    "load_dotenv()"
   ]
  },
  {
   "cell_type": "code",
   "execution_count": 5,
   "id": "7cbf1a7f",
   "metadata": {},
   "outputs": [],
   "source": [
    "llm = ChatGroq(model=\"Gemma2-9b-It\")"
   ]
  },
  {
   "cell_type": "code",
   "execution_count": 6,
   "id": "245fd1b1",
   "metadata": {},
   "outputs": [],
   "source": [
    "class XState(TypedDict):\n",
    "    topic: str\n",
    "    tweet: str\n",
    "    evaluation: Literal['approved', 'needs_improvement']\n",
    "    feedback: str\n",
    "    iteration: int\n",
    "    max_iteration: int"
   ]
  },
  {
   "cell_type": "code",
   "execution_count": null,
   "id": "5b182dba",
   "metadata": {},
   "outputs": [],
   "source": [
    "def generate_tweet(state: XState):\n",
    "    # prompt\n",
    "    messages = [\n",
    "        SystemMessage(content=\"You are a funny and clever Twitter/X influencer.\"),\n",
    "        HumanMessage(content=f\"\"\"\n",
    "        Write a short, original, and hilarious tweet on the topic: \"{state['topic']}\".\n",
    "        \n",
    "        Rules:\n",
    "        - Do not use question-answer format.\n",
    "        - Max 280 characters.\n",
    "        - Use obervational humor, irony, sarcasm, or cultural references.\n",
    "        - Think in meme logic, punchlines, or relatable takes.\n",
    "        - Use simple, day to day english\n",
    "        - This is version {state['iteration'] + 1}.\n",
    "\"\"\")\n",
    "    ]\n",
    "    # send generator_llm\n",
    "    response = llm.invoke(messages).content\n",
    "    \n",
    "    # return response\n",
    "    return {'tweet': response}"
   ]
  },
  {
   "cell_type": "code",
   "execution_count": null,
   "id": "055cf3d6",
   "metadata": {},
   "outputs": [],
   "source": [
    "def evaluate_tweet(XState):\n",
    "    # prompt\n",
    "    \n",
    "    \n",
    "    # get response\n",
    "    \n",
    "    # return response\n",
    "    "
   ]
  },
  {
   "cell_type": "code",
   "execution_count": 7,
   "id": "e65d24be",
   "metadata": {},
   "outputs": [
    {
     "ename": "NameError",
     "evalue": "name 'generate_tweet' is not defined",
     "output_type": "error",
     "traceback": [
      "\u001b[31m---------------------------------------------------------------------------\u001b[39m",
      "\u001b[31mNameError\u001b[39m                                 Traceback (most recent call last)",
      "\u001b[36mCell\u001b[39m\u001b[36m \u001b[39m\u001b[32mIn[7]\u001b[39m\u001b[32m, line 3\u001b[39m\n\u001b[32m      1\u001b[39m graph = StateGraph(XState)\n\u001b[32m----> \u001b[39m\u001b[32m3\u001b[39m graph.add_node(\u001b[33m'\u001b[39m\u001b[33mgenerate\u001b[39m\u001b[33m'\u001b[39m, \u001b[43mgenerate_tweet\u001b[49m)\n\u001b[32m      4\u001b[39m graph.add_node(\u001b[33m'\u001b[39m\u001b[33mevaluate\u001b[39m\u001b[33m'\u001b[39m, evaluate_tweet)\n\u001b[32m      5\u001b[39m graph.add_node(\u001b[33m'\u001b[39m\u001b[33moptimize\u001b[39m\u001b[33m'\u001b[39m, optimize_tweet)\n",
      "\u001b[31mNameError\u001b[39m: name 'generate_tweet' is not defined"
     ]
    }
   ],
   "source": [
    "graph = StateGraph(XState)\n",
    "\n",
    "graph.add_node('generate', generate_tweet)\n",
    "graph.add_node('evaluate', evaluate_tweet)\n",
    "graph.add_node('optimize', optimize_tweet)"
   ]
  },
  {
   "cell_type": "code",
   "execution_count": null,
   "id": "6b2201eb",
   "metadata": {},
   "outputs": [],
   "source": []
  }
 ],
 "metadata": {
  "kernelspec": {
   "display_name": "langgraph_env",
   "language": "python",
   "name": "python3"
  },
  "language_info": {
   "codemirror_mode": {
    "name": "ipython",
    "version": 3
   },
   "file_extension": ".py",
   "mimetype": "text/x-python",
   "name": "python",
   "nbconvert_exporter": "python",
   "pygments_lexer": "ipython3",
   "version": "3.11.7"
  }
 },
 "nbformat": 4,
 "nbformat_minor": 5
}
