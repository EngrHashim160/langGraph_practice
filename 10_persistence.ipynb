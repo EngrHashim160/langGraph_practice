{
 "cells": [
  {
   "cell_type": "code",
   "execution_count": 4,
   "id": "ff423d02",
   "metadata": {},
   "outputs": [],
   "source": [
    "from langgraph.graph import StateGraph, START, END\n",
    "from typing import TypedDict\n",
    "from typing import TypedDict, Literal, Annotated\n",
    "from dotenv import load_dotenv\n",
    "from langchain_core.messages import SystemMessage, HumanMessage\n",
    "from langchain_groq import ChatGroq\n",
    "from langgraph.checkpoint.memory import InMemorySaver\n",
    "import operator"
   ]
  },
  {
   "cell_type": "code",
   "execution_count": 5,
   "id": "d0b5e10b",
   "metadata": {},
   "outputs": [
    {
     "data": {
      "text/plain": [
       "True"
      ]
     },
     "execution_count": 5,
     "metadata": {},
     "output_type": "execute_result"
    }
   ],
   "source": [
    "load_dotenv()"
   ]
  },
  {
   "cell_type": "code",
   "execution_count": 6,
   "id": "80692d05",
   "metadata": {},
   "outputs": [],
   "source": [
    "llm = ChatGroq(model=\"Gemma2-9b-It\",temperature=0)"
   ]
  },
  {
   "cell_type": "code",
   "execution_count": 7,
   "id": "c9c0aedd",
   "metadata": {},
   "outputs": [],
   "source": [
    "class JokeState(TypedDict):\n",
    "    topic: str\n",
    "    joke: str\n",
    "    explanation: str"
   ]
  },
  {
   "cell_type": "code",
   "execution_count": 8,
   "id": "354223b8",
   "metadata": {},
   "outputs": [],
   "source": [
    "def generate_joke(state: JokeState):\n",
    "    prompt = f\"Generate a joke on the topic: {state['topic']}\"\n",
    "    response = llm.invoke(prompt).content\n",
    "    \n",
    "    return {\n",
    "        'joke': response\n",
    "    }"
   ]
  },
  {
   "cell_type": "code",
   "execution_count": 9,
   "id": "3776c296",
   "metadata": {},
   "outputs": [],
   "source": [
    "def generate_explanation(state: JokeState):\n",
    "    prompt = f\"Write an explanation for the joke - {state['joke']}\"\n",
    "    response = llm.invoke(prompt).content\n",
    "    \n",
    "    return {\n",
    "        'explanation': response\n",
    "    }"
   ]
  },
  {
   "cell_type": "code",
   "execution_count": 10,
   "id": "c882a536",
   "metadata": {},
   "outputs": [],
   "source": [
    "graph = StateGraph(JokeState)\n",
    "\n",
    "graph.add_node('generate_joke', generate_joke)\n",
    "graph.add_node('generate_explanation', generate_explanation)\n",
    "\n",
    "graph.add_edge(START, 'generate_joke')\n",
    "graph.add_edge('generate_joke', 'generate_explanation')\n",
    "graph.add_edge('generate_explanation', END)\n",
    "\n",
    "checkpointer = InMemorySaver()\n",
    "\n",
    "workflow = graph.compile(checkpointer=checkpointer)"
   ]
  },
  {
   "cell_type": "code",
   "execution_count": 11,
   "id": "0b0c3d0c",
   "metadata": {},
   "outputs": [
    {
     "data": {
      "text/plain": [
       "{'topic': 'pizza',\n",
       " 'joke': 'Why did the pizza slice go to the doctor? \\n\\nBecause it was feeling a little cheesy! 🍕🩺  \\n',\n",
       " 'explanation': 'This joke plays on the double meaning of the word \"cheesy.\" \\n\\n* **Literal meaning:** Pizza is made with cheese, so a pizza slice literally *is* cheesy.\\n\\n* **Figurative meaning:**  \"Cheesy\" can also mean something that is corny, unoriginal, or embarrassing.  \\n\\nThe joke sets you up to think about the pizza slice being literally made of cheese. Then, it twists the meaning to suggest the pizza slice is feeling embarrassed or awkward, just like something \"cheesy\" might make you feel.  \\n\\n\\nLet me know if you\\'d like to hear another joke! 😄 \\n'}"
      ]
     },
     "execution_count": 11,
     "metadata": {},
     "output_type": "execute_result"
    }
   ],
   "source": [
    "config1 = {\n",
    "    'configurable': {\"thread_id\": \"1\"}\n",
    "}\n",
    "\n",
    "workflow.invoke(\n",
    "    {'topic': 'pizza'},\n",
    "    config=config1\n",
    ")"
   ]
  },
  {
   "cell_type": "code",
   "execution_count": 12,
   "id": "8769b7dc",
   "metadata": {},
   "outputs": [
    {
     "data": {
      "text/plain": [
       "[{'topic': 'pizza',\n",
       "  'joke': 'Why did the pizza slice go to the doctor? \\n\\nBecause it was feeling a little cheesy! 🍕🩺  \\n',\n",
       "  'explanation': 'This joke plays on the double meaning of the word \"cheesy.\" \\n\\n* **Literal meaning:** Pizza is made with cheese, so a pizza slice literally *is* cheesy.\\n\\n* **Figurative meaning:**  \"Cheesy\" can also mean something that is corny, unoriginal, or embarrassing.  \\n\\nThe joke sets you up to think about the pizza slice being literally made of cheese. Then, it twists the meaning to suggest the pizza slice is feeling embarrassed or awkward, just like something \"cheesy\" might make you feel.  \\n\\n\\nLet me know if you\\'d like to hear another joke! 😄 \\n'},\n",
       " (),\n",
       " {'configurable': {'thread_id': '1',\n",
       "   'checkpoint_ns': '',\n",
       "   'checkpoint_id': '1f07114a-a921-6d87-8002-669ba947ca07'}},\n",
       " {'source': 'loop', 'step': 2, 'parents': {}},\n",
       " '2025-08-04T09:23:22.347251+00:00',\n",
       " {'configurable': {'thread_id': '1',\n",
       "   'checkpoint_ns': '',\n",
       "   'checkpoint_id': '1f07114a-a298-6a95-8001-b2d4055d1617'}},\n",
       " (),\n",
       " ()]"
      ]
     },
     "execution_count": 12,
     "metadata": {},
     "output_type": "execute_result"
    }
   ],
   "source": [
    "list(workflow.get_state(config1))"
   ]
  },
  {
   "cell_type": "code",
   "execution_count": 13,
   "id": "115fc769",
   "metadata": {},
   "outputs": [
    {
     "data": {
      "text/plain": [
       "[StateSnapshot(values={'topic': 'pizza', 'joke': 'Why did the pizza slice go to the doctor? \\n\\nBecause it was feeling a little cheesy! 🍕🩺  \\n', 'explanation': 'This joke plays on the double meaning of the word \"cheesy.\" \\n\\n* **Literal meaning:** Pizza is made with cheese, so a pizza slice literally *is* cheesy.\\n\\n* **Figurative meaning:**  \"Cheesy\" can also mean something that is corny, unoriginal, or embarrassing.  \\n\\nThe joke sets you up to think about the pizza slice being literally made of cheese. Then, it twists the meaning to suggest the pizza slice is feeling embarrassed or awkward, just like something \"cheesy\" might make you feel.  \\n\\n\\nLet me know if you\\'d like to hear another joke! 😄 \\n'}, next=(), config={'configurable': {'thread_id': '1', 'checkpoint_ns': '', 'checkpoint_id': '1f07114a-a921-6d87-8002-669ba947ca07'}}, metadata={'source': 'loop', 'step': 2, 'parents': {}}, created_at='2025-08-04T09:23:22.347251+00:00', parent_config={'configurable': {'thread_id': '1', 'checkpoint_ns': '', 'checkpoint_id': '1f07114a-a298-6a95-8001-b2d4055d1617'}}, tasks=(), interrupts=()),\n",
       " StateSnapshot(values={'topic': 'pizza', 'joke': 'Why did the pizza slice go to the doctor? \\n\\nBecause it was feeling a little cheesy! 🍕🩺  \\n'}, next=('generate_explanation',), config={'configurable': {'thread_id': '1', 'checkpoint_ns': '', 'checkpoint_id': '1f07114a-a298-6a95-8001-b2d4055d1617'}}, metadata={'source': 'loop', 'step': 1, 'parents': {}}, created_at='2025-08-04T09:23:21.661915+00:00', parent_config={'configurable': {'thread_id': '1', 'checkpoint_ns': '', 'checkpoint_id': '1f07114a-9a89-604d-8000-790d9606fab2'}}, tasks=(PregelTask(id='4870387b-cfbf-d55d-5b15-8a0208655d86', name='generate_explanation', path=('__pregel_pull', 'generate_explanation'), error=None, interrupts=(), state=None, result={'explanation': 'This joke plays on the double meaning of the word \"cheesy.\" \\n\\n* **Literal meaning:** Pizza is made with cheese, so a pizza slice literally *is* cheesy.\\n\\n* **Figurative meaning:**  \"Cheesy\" can also mean something that is corny, unoriginal, or embarrassing.  \\n\\nThe joke sets you up to think about the pizza slice being literally made of cheese. Then, it twists the meaning to suggest the pizza slice is feeling embarrassed or awkward, just like something \"cheesy\" might make you feel.  \\n\\n\\nLet me know if you\\'d like to hear another joke! 😄 \\n'}),), interrupts=()),\n",
       " StateSnapshot(values={'topic': 'pizza'}, next=('generate_joke',), config={'configurable': {'thread_id': '1', 'checkpoint_ns': '', 'checkpoint_id': '1f07114a-9a89-604d-8000-790d9606fab2'}}, metadata={'source': 'loop', 'step': 0, 'parents': {}}, created_at='2025-08-04T09:23:20.816647+00:00', parent_config={'configurable': {'thread_id': '1', 'checkpoint_ns': '', 'checkpoint_id': '1f07114a-9a5d-611d-bfff-bd613adfdbf3'}}, tasks=(PregelTask(id='8de75059-6a2f-0f28-9720-9765c61902f4', name='generate_joke', path=('__pregel_pull', 'generate_joke'), error=None, interrupts=(), state=None, result={'joke': 'Why did the pizza slice go to the doctor? \\n\\nBecause it was feeling a little cheesy! 🍕🩺  \\n'}),), interrupts=()),\n",
       " StateSnapshot(values={}, next=('__start__',), config={'configurable': {'thread_id': '1', 'checkpoint_ns': '', 'checkpoint_id': '1f07114a-9a5d-611d-bfff-bd613adfdbf3'}}, metadata={'source': 'input', 'step': -1, 'parents': {}}, created_at='2025-08-04T09:23:20.798646+00:00', parent_config=None, tasks=(PregelTask(id='440df66d-0363-43cb-51e0-535674caef09', name='__start__', path=('__pregel_pull', '__start__'), error=None, interrupts=(), state=None, result={'topic': 'pizza'}),), interrupts=())]"
      ]
     },
     "execution_count": 13,
     "metadata": {},
     "output_type": "execute_result"
    }
   ],
   "source": [
    "list(workflow.get_state_history(config1))"
   ]
  },
  {
   "cell_type": "code",
   "execution_count": 22,
   "id": "bdb4beea",
   "metadata": {},
   "outputs": [
    {
     "data": {
      "text/plain": [
       "{'topic': 'Broast',\n",
       " 'joke': \"Why did the broast chicken cross the road? \\n\\nTo prove he wasn't chicken! 🐔🍗  \\n\\n\\nLet me know if you'd like to hear another one! 😄 \\n\",\n",
       " 'explanation': 'This joke plays on the double meaning of the word \"chicken.\" \\n\\n* **Literal meaning:** A chicken is a type of bird.\\n* **Figurative meaning:**  \"Chicken\" can also mean someone who is cowardly or afraid to do something.\\n\\nThe joke sets up the expectation of a simple animal crossing the road, but then subverts it by using the word \"chicken\" in its figurative sense.  The punchline implies that the roast chicken was brave enough to cross the road, defying the stereotype of chickens being afraid.  \\n\\n\\nLet me know if you\\'d like to hear another joke! 😄  \\n\\n'}"
      ]
     },
     "execution_count": 22,
     "metadata": {},
     "output_type": "execute_result"
    }
   ],
   "source": [
    "config2 = {\n",
    "    'configurable': {\"thread_id\": \"2\"}\n",
    "}\n",
    "\n",
    "workflow.invoke(\n",
    "    {'topic': 'Broast'},\n",
    "    config=config2\n",
    ")"
   ]
  },
  {
   "cell_type": "code",
   "execution_count": 23,
   "id": "2a13f0dd",
   "metadata": {},
   "outputs": [
    {
     "data": {
      "text/plain": [
       "[{'topic': 'Broast',\n",
       "  'joke': \"Why did the broast chicken cross the road? \\n\\nTo prove he wasn't chicken! 🐔🍗  \\n\\n\\nLet me know if you'd like to hear another one! 😄 \\n\",\n",
       "  'explanation': 'This joke plays on the double meaning of the word \"chicken.\" \\n\\n* **Literal meaning:** A chicken is a type of bird.\\n* **Figurative meaning:**  \"Chicken\" can also mean someone who is cowardly or afraid to do something.\\n\\nThe joke sets up the expectation of a simple animal crossing the road, but then subverts it by using the word \"chicken\" in its figurative sense.  The punchline implies that the roast chicken was brave enough to cross the road, defying the stereotype of chickens being afraid.  \\n\\n\\nLet me know if you\\'d like to hear another joke! 😄  \\n\\n'},\n",
       " (),\n",
       " {'configurable': {'thread_id': '2',\n",
       "   'checkpoint_ns': '',\n",
       "   'checkpoint_id': '1f071198-677c-68fe-8002-11c31e353b0b'}},\n",
       " {'source': 'loop', 'step': 2, 'parents': {}},\n",
       " '2025-08-04T09:58:09.260364+00:00',\n",
       " {'configurable': {'thread_id': '2',\n",
       "   'checkpoint_ns': '',\n",
       "   'checkpoint_id': '1f071198-60d3-6d02-8001-a5b76cff1ee9'}},\n",
       " (),\n",
       " ()]"
      ]
     },
     "execution_count": 23,
     "metadata": {},
     "output_type": "execute_result"
    }
   ],
   "source": [
    "list(workflow.get_state(config2))"
   ]
  },
  {
   "cell_type": "code",
   "execution_count": 24,
   "id": "ed323e5b",
   "metadata": {},
   "outputs": [
    {
     "data": {
      "text/plain": [
       "[StateSnapshot(values={'topic': 'Broast', 'joke': \"Why did the broast chicken cross the road? \\n\\nTo prove he wasn't chicken! 🐔🍗  \\n\\n\\nLet me know if you'd like to hear another one! 😄 \\n\", 'explanation': 'This joke plays on the double meaning of the word \"chicken.\" \\n\\n* **Literal meaning:** A chicken is a type of bird.\\n* **Figurative meaning:**  \"Chicken\" can also mean someone who is cowardly or afraid to do something.\\n\\nThe joke sets up the expectation of a simple animal crossing the road, but then subverts it by using the word \"chicken\" in its figurative sense.  The punchline implies that the roast chicken was brave enough to cross the road, defying the stereotype of chickens being afraid.  \\n\\n\\nLet me know if you\\'d like to hear another joke! 😄  \\n\\n'}, next=(), config={'configurable': {'thread_id': '2', 'checkpoint_ns': '', 'checkpoint_id': '1f071198-677c-68fe-8002-11c31e353b0b'}}, metadata={'source': 'loop', 'step': 2, 'parents': {}}, created_at='2025-08-04T09:58:09.260364+00:00', parent_config={'configurable': {'thread_id': '2', 'checkpoint_ns': '', 'checkpoint_id': '1f071198-60d3-6d02-8001-a5b76cff1ee9'}}, tasks=(), interrupts=()),\n",
       " StateSnapshot(values={'topic': 'Broast', 'joke': \"Why did the broast chicken cross the road? \\n\\nTo prove he wasn't chicken! 🐔🍗  \\n\\n\\nLet me know if you'd like to hear another one! 😄 \\n\"}, next=('generate_explanation',), config={'configurable': {'thread_id': '2', 'checkpoint_ns': '', 'checkpoint_id': '1f071198-60d3-6d02-8001-a5b76cff1ee9'}}, metadata={'source': 'loop', 'step': 1, 'parents': {}}, created_at='2025-08-04T09:58:08.562099+00:00', parent_config={'configurable': {'thread_id': '2', 'checkpoint_ns': '', 'checkpoint_id': '1f071198-5a85-6c17-8000-77d117788955'}}, tasks=(PregelTask(id='8492a922-7b8f-08f9-79c1-08d5439a5dda', name='generate_explanation', path=('__pregel_pull', 'generate_explanation'), error=None, interrupts=(), state=None, result={'explanation': 'This joke plays on the double meaning of the word \"chicken.\" \\n\\n* **Literal meaning:** A chicken is a type of bird.\\n* **Figurative meaning:**  \"Chicken\" can also mean someone who is cowardly or afraid to do something.\\n\\nThe joke sets up the expectation of a simple animal crossing the road, but then subverts it by using the word \"chicken\" in its figurative sense.  The punchline implies that the roast chicken was brave enough to cross the road, defying the stereotype of chickens being afraid.  \\n\\n\\nLet me know if you\\'d like to hear another joke! 😄  \\n\\n'}),), interrupts=()),\n",
       " StateSnapshot(values={'topic': 'Broast'}, next=('generate_joke',), config={'configurable': {'thread_id': '2', 'checkpoint_ns': '', 'checkpoint_id': '1f071198-5a85-6c17-8000-77d117788955'}}, metadata={'source': 'loop', 'step': 0, 'parents': {}}, created_at='2025-08-04T09:58:07.900981+00:00', parent_config={'configurable': {'thread_id': '2', 'checkpoint_ns': '', 'checkpoint_id': '1f071198-5a7d-6de9-bfff-f58b01eaceb0'}}, tasks=(PregelTask(id='8d2999a9-a082-2842-bbb4-daf92960b726', name='generate_joke', path=('__pregel_pull', 'generate_joke'), error=None, interrupts=(), state=None, result={'joke': \"Why did the broast chicken cross the road? \\n\\nTo prove he wasn't chicken! 🐔🍗  \\n\\n\\nLet me know if you'd like to hear another one! 😄 \\n\"}),), interrupts=()),\n",
       " StateSnapshot(values={}, next=('__start__',), config={'configurable': {'thread_id': '2', 'checkpoint_ns': '', 'checkpoint_id': '1f071198-5a7d-6de9-bfff-f58b01eaceb0'}}, metadata={'source': 'input', 'step': -1, 'parents': {}}, created_at='2025-08-04T09:58:07.897751+00:00', parent_config=None, tasks=(PregelTask(id='90fb7b8e-b5e9-d2ac-589c-9d80999e9d74', name='__start__', path=('__pregel_pull', '__start__'), error=None, interrupts=(), state=None, result={'topic': 'Broast'}),), interrupts=())]"
      ]
     },
     "execution_count": 24,
     "metadata": {},
     "output_type": "execute_result"
    }
   ],
   "source": [
    "list(workflow.get_state_history(config2))"
   ]
  },
  {
   "cell_type": "code",
   "execution_count": null,
   "id": "ce255126",
   "metadata": {},
   "outputs": [],
   "source": []
  }
 ],
 "metadata": {
  "kernelspec": {
   "display_name": "langgraph_env",
   "language": "python",
   "name": "python3"
  },
  "language_info": {
   "codemirror_mode": {
    "name": "ipython",
    "version": 3
   },
   "file_extension": ".py",
   "mimetype": "text/x-python",
   "name": "python",
   "nbconvert_exporter": "python",
   "pygments_lexer": "ipython3",
   "version": "3.10.18"
  }
 },
 "nbformat": 4,
 "nbformat_minor": 5
}
