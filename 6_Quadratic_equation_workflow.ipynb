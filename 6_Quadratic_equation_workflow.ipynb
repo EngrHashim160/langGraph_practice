{
 "cells": [
  {
   "cell_type": "code",
   "execution_count": 11,
   "id": "c997ff2a",
   "metadata": {},
   "outputs": [
    {
     "data": {
      "text/plain": [
       "True"
      ]
     },
     "execution_count": 11,
     "metadata": {},
     "output_type": "execute_result"
    }
   ],
   "source": [
    "from dotenv import load_dotenv\n",
    "from langgraph.graph import StateGraph, START, END\n",
    "from typing import TypedDict, Literal\n",
    "load_dotenv()"
   ]
  },
  {
   "cell_type": "code",
   "execution_count": 2,
   "id": "0b744672",
   "metadata": {},
   "outputs": [],
   "source": [
    "class QuadState(TypedDict):\n",
    "    a: int\n",
    "    b: int\n",
    "    c: int\n",
    "    \n",
    "    equation: str\n",
    "    discriminant: float\n",
    "    result: str"
   ]
  },
  {
   "cell_type": "code",
   "execution_count": 20,
   "id": "ae4ddf4c",
   "metadata": {},
   "outputs": [],
   "source": [
    "def show_equation(state: QuadState):\n",
    "    equation = f\"{state['a']}x2 + ({state['b']})x + ({state['c']})\"\n",
    "    \n",
    "    return {'equation': equation}"
   ]
  },
  {
   "cell_type": "code",
   "execution_count": 4,
   "id": "e2d80e1a",
   "metadata": {},
   "outputs": [],
   "source": [
    "def calculate_discriminant(state: QuadState):\n",
    "    discriminant = state['b']**2 - 4*(state['a']*state['c'])\n",
    "    \n",
    "    return {\n",
    "        'discriminant': discriminant\n",
    "    }"
   ]
  },
  {
   "cell_type": "code",
   "execution_count": null,
   "id": "ff170eb3",
   "metadata": {},
   "outputs": [],
   "source": [
    "def real_roots(state: QuadState):\n",
    "    root1 = ((-state['b'] + state['discriminant'])**0.5)/(2 * state['a'])\n",
    "    root2 = ((-state['b'] - state['discriminant'])**0.5)/(2 * state['a'])\n",
    "    \n",
    "    result =  f\"The roots are {root1} and {root2}\"\n",
    "\n",
    "    return {'result': result}"
   ]
  },
  {
   "cell_type": "code",
   "execution_count": 7,
   "id": "2899f865",
   "metadata": {},
   "outputs": [],
   "source": [
    "def repeated_real_roots(state: QuadState):\n",
    "    root = (-state['b'])/(2 * state['a'])\n",
    "    \n",
    "    result =  f\"The only repeating root is {root}\"\n",
    "\n",
    "    return {'result': result}"
   ]
  },
  {
   "cell_type": "code",
   "execution_count": 8,
   "id": "39c82877",
   "metadata": {},
   "outputs": [],
   "source": [
    "def no_real_roots(state: QuadState):\n",
    "    \n",
    "    result =  f\"No real roots.\"\n",
    "\n",
    "    return {'result': result}"
   ]
  },
  {
   "cell_type": "code",
   "execution_count": null,
   "id": "7795f576",
   "metadata": {},
   "outputs": [],
   "source": [
    "def check_condition(state: QuadState) -> Literal['real_roots', 'repeated_real_roots', 'no_real_roots']:\n",
    "    if state['discriminant'] > 0:\n",
    "        return \"real_roots\"\n",
    "    elif state['discriminant'] == 0:\n",
    "        return 'repeated_real_roots'\n",
    "    else:\n",
    "        return 'no_real_roots'"
   ]
  },
  {
   "cell_type": "code",
   "execution_count": 21,
   "id": "dc500e00",
   "metadata": {},
   "outputs": [],
   "source": [
    "graph = StateGraph(QuadState)\n",
    "\n",
    "graph.add_node('show_equation', show_equation)\n",
    "graph.add_node('calculate_discriminant', calculate_discriminant)\n",
    "graph.add_node('real_roots', real_roots)\n",
    "graph.add_node('repeated_real_roots', repeated_real_roots)\n",
    "graph.add_node('no_real_roots', no_real_roots)\n",
    "\n",
    "\n",
    "graph.add_edge(START, \"show_equation\")\n",
    "graph.add_edge('show_equation', 'calculate_discriminant')\n",
    "graph.add_conditional_edges('calculate_discriminant', check_condition)\n",
    "graph.add_edge('real_roots', END)\n",
    "graph.add_edge('repeated_real_roots', END)\n",
    "graph.add_edge('no_real_roots', END)\n",
    "\n",
    "\n",
    "workflow = graph.compile()"
   ]
  },
  {
   "cell_type": "code",
   "execution_count": 22,
   "id": "a61d557a",
   "metadata": {},
   "outputs": [
    {
     "data": {
      "image/png": "[encoded data removed]",
      "text/plain": [
       "<IPython.core.display.Image object>"
      ]
     },
     "execution_count": 22,
     "metadata": {},
     "output_type": "execute_result"
    }
   ],
   "source": [
    "# visulaize the graph\n",
    "from IPython.display import Image\n",
    "Image(\n",
    "    workflow.get_graph().draw_mermaid_png()\n",
    ")"
   ]
  },
  {
   "cell_type": "code",
   "execution_count": 30,
   "id": "8147a503",
   "metadata": {},
   "outputs": [],
   "source": [
    "initial_state = {\n",
    "    'a': 2,\n",
    "    'b': 4,\n",
    "    'c': 2\n",
    "}\n",
    "\n",
    "final_state = workflow.invoke(initial_state)"
   ]
  },
  {
   "cell_type": "code",
   "execution_count": 31,
   "id": "ac9da6c4",
   "metadata": {},
   "outputs": [
    {
     "data": {
      "text/plain": [
       "{'a': 2,\n",
       " 'b': 4,\n",
       " 'c': 2,\n",
       " 'equation': '2x2 + (4)x + (2)',\n",
       " 'discriminant': 0,\n",
       " 'result': 'The only repeating root is -1.0'}"
      ]
     },
     "execution_count": 31,
     "metadata": {},
     "output_type": "execute_result"
    }
   ],
   "source": [
    "final_state"
   ]
  },
  {
   "cell_type": "code",
   "execution_count": null,
   "id": "cec99b5d",
   "metadata": {},
   "outputs": [],
   "source": []
  }
 ],
 "metadata": {
  "kernelspec": {
   "display_name": "langgraph_env",
   "language": "python",
   "name": "python3"
  },
  "language_info": {
   "codemirror_mode": {
    "name": "ipython",
    "version": 3
   },
   "file_extension": ".py",
   "mimetype": "text/x-python",
   "name": "python",
   "nbconvert_exporter": "python",
   "pygments_lexer": "ipython3",
   "version": "3.11.7"
  }
 },
 "nbformat": 4,
 "nbformat_minor": 5
}
