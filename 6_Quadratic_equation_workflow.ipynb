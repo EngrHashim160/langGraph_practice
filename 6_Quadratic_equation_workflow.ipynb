{
 "cells": [],
 "metadata": {
  "kernelspec": {
   "display_name": "langgraph_env",
   "language": "python",
   "name": "python3"
  },
  "language_info": {
   "name": "python",
   "version": "3.11.7"
  }
 },
 "nbformat": 4,
 "nbformat_minor": 5
}
